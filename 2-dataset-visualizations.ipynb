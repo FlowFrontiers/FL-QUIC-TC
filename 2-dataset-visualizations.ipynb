{
 "cells": [
  {
   "cell_type": "markdown",
   "id": "c6724d5c",
   "metadata": {},
   "source": [
    "# Description\n",
    "\n",
    "This notebook visualize some of the important features of the created dataset."
   ]
  },
  {
   "cell_type": "markdown",
   "id": "64ea51a2",
   "metadata": {},
   "source": [
    "# Import"
   ]
  },
  {
   "cell_type": "code",
   "execution_count": null,
   "id": "6eb1243b",
   "metadata": {},
   "outputs": [],
   "source": [
    "import sys, os, logging\n",
    "\n",
    "import pandas as pd\n",
    "\n",
    "sys.path.append(os.path.abspath(os.path.join(os.getcwd(), \"../\")))\n",
    "from configuration import Configuration\n",
    "from os.path import join as path\n",
    "from warnings import simplefilter\n",
    "simplefilter(action=\"ignore\", category=pd.errors.PerformanceWarning)\n",
    "import matplotlib.pyplot as plt\n",
    "# Configuration\n",
    "c = Configuration()\n",
    "\n",
    "# logging\n",
    "logging.basicConfig(\n",
    "    level=logging.INFO,\n",
    "    format=\"%(asctime)s [%(levelname)s] %(message)s\",\n",
    ")\n",
    "logger = logging.getLogger(__name__)\n",
    "\n",
    "# random state\n",
    "random_state = 123"
   ]
  },
  {
   "cell_type": "markdown",
   "id": "d7351c52",
   "metadata": {},
   "source": [
    "## Load dataset"
   ]
  },
  {
   "cell_type": "code",
   "execution_count": null,
   "id": "f8992e4c",
   "metadata": {},
   "outputs": [],
   "source": [
    "df = pd.read_parquet(path(c.path_dataset, \"4-dataset\", \"dataset.parquet\"), columns= [\"TIME_LAST\", c.app, c.org])\n",
    "int_to_cls = c.load_mapping(\"int_to_cls\")\n",
    "df[\"APP\"] = df[c.app].replace(int_to_cls) # Replace app id with app name"
   ]
  },
  {
   "cell_type": "markdown",
   "id": "35f76e3f",
   "metadata": {},
   "source": [
    "## How much data does one client have?"
   ]
  },
  {
   "cell_type": "code",
   "execution_count": null,
   "id": "4ec61bd5",
   "metadata": {},
   "outputs": [],
   "source": [
    "df[\"ORG_ID\"].value_counts(sort=True)"
   ]
  },
  {
   "cell_type": "markdown",
   "id": "37d6fc96",
   "metadata": {},
   "source": [
    "## Application distribution between clients"
   ]
  },
  {
   "cell_type": "code",
   "execution_count": null,
   "id": "5a3df6c7",
   "metadata": {},
   "outputs": [],
   "source": [
    "counts = df[[\"ORG_ID\", \"APP\"]].value_counts().sort_index()\n",
    "counts.unstack().plot(kind=\"bar\", stacked=False, figsize=(10, 8))\n",
    "\n",
    "plt.title(\"Application distribution between clients.\")\n",
    "plt.xlabel(\"Client ID\")\n",
    "plt.ylabel(\"#Data\")\n",
    "plt.legend(title=\"Applications\")\n",
    "plt.tight_layout()\n",
    "plt.show()"
   ]
  },
  {
   "cell_type": "markdown",
   "id": "24bff228",
   "metadata": {},
   "source": [
    "## Network Traffic distribution in time between clients"
   ]
  },
  {
   "cell_type": "code",
   "execution_count": null,
   "id": "0dad9250",
   "metadata": {},
   "outputs": [],
   "source": [
    "import pandas as pd\n",
    "\n",
    "plt.figure(figsize=(18,6))\n",
    "plt.gca().xaxis.set_major_formatter(plt.matplotlib.dates.DateFormatter('%a %H:%M'))\n",
    "\n",
    "for org_id in range(1,14+1):\n",
    "    \n",
    "    df_org = df[df[\"ORG_ID\"] == org_id]\n",
    "    \n",
    "    df_org.loc[:, 'TIME_LAST'] = pd.to_datetime(df_org['TIME_LAST'], format=\"%Y-%m-%dT%H:%M:%S.%f\", errors='coerce')\n",
    "    df_org = df_org.dropna(subset=['TIME_LAST'])\n",
    "    df_org = df_org.set_index('TIME_LAST')\n",
    "    df_org = df_org.sort_values(by='TIME_LAST')\n",
    "\n",
    "    X = '3h'\n",
    "    Y = '3h' \n",
    "\n",
    "    time_windows = df_org.resample(Y).count()\n",
    "\n",
    "    rolling_counts = time_windows.rolling(X, min_periods=1).sum()\n",
    "\n",
    "    plt.plot(rolling_counts.index, rolling_counts.iloc[:, 0], label=f'Kliens {org_id}')\n",
    "\n",
    "    del time_windows, rolling_counts, df_org\n",
    "\n",
    "# X tengely formázása: csak HH:MM jelenjen meg\n",
    "plt.xlabel(\"Time\")\n",
    "plt.ylabel(\"#Data\")\n",
    "plt.title(f\"Traffic distribution between clients.\")\n",
    "plt.legend()\n",
    "plt.grid()\n",
    "plt.margins(0)\n",
    "plt.show()"
   ]
  },
  {
   "cell_type": "markdown",
   "id": "46b8d4b0",
   "metadata": {},
   "source": [
    "## Network Traffic distribution in time between applications"
   ]
  },
  {
   "cell_type": "code",
   "execution_count": null,
   "id": "c5987823",
   "metadata": {},
   "outputs": [],
   "source": [
    "import pandas as pd\n",
    "\n",
    "plt.figure(figsize=(18,6))\n",
    "plt.gca().xaxis.set_major_formatter(plt.matplotlib.dates.DateFormatter('%a %H:%M'))\n",
    "\n",
    "for app in int_to_cls.values():\n",
    "    \n",
    "    df_org = df[df[\"APP\"] == app]\n",
    "    \n",
    "    df_org.loc[:, 'TIME_LAST'] = pd.to_datetime(df_org['TIME_LAST'], format=\"%Y-%m-%dT%H:%M:%S.%f\", errors='coerce')\n",
    "    df_org = df_org.dropna(subset=['TIME_LAST'])\n",
    "    df_org = df_org.set_index('TIME_LAST')\n",
    "    df_org = df_org.sort_values(by='TIME_LAST')\n",
    "\n",
    "    X = '3h'\n",
    "    Y = '3h'\n",
    "\n",
    "    \n",
    "    time_windows = df_org.resample(Y).count()\n",
    "\n",
    "    # A csúszó időablakokat létrehozzuk\n",
    "    rolling_counts = time_windows.rolling(X, min_periods=1).sum()\n",
    "\n",
    "    plt.plot(time_windows.index, time_windows.iloc[:, 0], label=f'{app}')\n",
    "\n",
    "    del time_windows, df_org\n",
    "\n",
    "# X tengely formázása: csak HH:MM jelenjen meg\n",
    "plt.xlabel(\"Time\")\n",
    "plt.ylabel(\"#Data\")\n",
    "plt.title(\"Traffic distribution in time between applications.\")\n",
    "plt.legend()\n",
    "plt.grid()\n",
    "plt.margins(0)\n",
    "plt.show()"
   ]
  },
  {
   "cell_type": "markdown",
   "id": "0fe33210",
   "metadata": {},
   "source": [
    "## Other visualizations"
   ]
  },
  {
   "cell_type": "code",
   "execution_count": null,
   "id": "bee170ad",
   "metadata": {},
   "outputs": [],
   "source": [
    "import pandas as pd\n",
    "\n",
    "cluster_A = [ 1, 5 , 7, 8, 9, 12]\n",
    "\n",
    "for apps in [[\"instagram\", \"facebook-graph\", \"discord\"],[\"google-www\", \"youtube\", \"snapchat\", \"spotify\"]]:\n",
    "    plt.figure(figsize=(18,6))\n",
    "    plt.gca().xaxis.set_major_formatter(plt.matplotlib.dates.DateFormatter('%a %H:%M'))\n",
    "    for org_id in range(1,14+1):\n",
    "    \n",
    "        df_org_app = df[(df[\"APP\"].isin(apps)) & (df[\"ORG_ID\"] == org_id)]\n",
    "        \n",
    "        df_org_app.loc[:, 'TIME_LAST'] = pd.to_datetime(df_org_app['TIME_LAST'], format=\"%Y-%m-%dT%H:%M:%S.%f\", errors='coerce')\n",
    "        df_org_app = df_org_app.dropna(subset=['TIME_LAST'])\n",
    "        df_org_app = df_org_app.set_index('TIME_LAST')\n",
    "        df_org_app = df_org_app.sort_values(by='TIME_LAST')\n",
    "\n",
    "        X = '3h'\n",
    "        Y = '3h'\n",
    "\n",
    "        time_windows = df_org_app.resample(Y).count()\n",
    "        \n",
    "\n",
    "        if org_id in cluster_A:\n",
    "            plt.plot(time_windows.index, time_windows.iloc[:, 0], linestyle=\"-\", label=f'{org_id}')\n",
    "        else:\n",
    "            plt.plot(time_windows.index, time_windows.iloc[:, 0], linestyle=\":\", label=f'{org_id}')\n",
    "\n",
    "        del time_windows, df_org_app\n",
    "\n",
    "    plt.xlabel(\"Time\")\n",
    "    plt.ylabel(\"#Flow\")\n",
    "    plt.title(f\"#Flow distribution over time for {apps}\")\n",
    "    plt.legend()\n",
    "    plt.grid()\n",
    "    plt.show()\n",
    "    plt.clf()\n",
    "    plt.close()"
   ]
  },
  {
   "cell_type": "code",
   "execution_count": null,
   "id": "02f4c977",
   "metadata": {},
   "outputs": [],
   "source": [
    "import pandas as pd\n",
    "\n",
    "cluster_A = [ 1, 5 , 7, 8, 9, 12]\n",
    "\n",
    "for app in [\"instagram\", \"facebook-graph\", \"discord\", \"google-www\", \"youtube\", \"snapchat\", \"spotify\"]:\n",
    "    plt.figure(figsize=(18,6))\n",
    "    plt.gca().xaxis.set_major_formatter(plt.matplotlib.dates.DateFormatter('%a %H:%M'))\n",
    "    for org_id in range(1,14+1):\n",
    "    \n",
    "        df_org_app = df[(df[\"APP\"] == app) & (df[\"ORG_ID\"] == org_id)]\n",
    "        \n",
    "        df_org_app.loc[:, 'TIME_LAST'] = pd.to_datetime(df_org_app['TIME_LAST'], format=\"%Y-%m-%dT%H:%M:%S.%f\", errors='coerce')\n",
    "        df_org_app = df_org_app.dropna(subset=['TIME_LAST'])\n",
    "        df_org_app = df_org_app.set_index('TIME_LAST')\n",
    "        df_org_app = df_org_app.sort_values(by='TIME_LAST')\n",
    "\n",
    "        X = '3h'\n",
    "        Y = '3h'\n",
    "\n",
    "        time_windows = df_org_app.resample(Y).count()\n",
    "        if org_id in cluster_A:\n",
    "            plt.plot(time_windows.index, time_windows.iloc[:, 0], linestyle=\"-\", label=f'{org_id}')\n",
    "        else:\n",
    "            plt.plot(time_windows.index, time_windows.iloc[:, 0], linestyle=\":\", label=f'{org_id}')\n",
    "\n",
    "        del time_windows, df_org_app\n",
    "\n",
    "    # X tengely formázása: csak HH:MM jelenjen meg\n",
    "    plt.xlabel(\"Time\")\n",
    "    plt.ylabel(\"#Flow\")\n",
    "    plt.title(f\"#Flow distribution over time for {app}\")\n",
    "    plt.legend()\n",
    "    plt.grid()\n",
    "    plt.savefig(path(c.path_results, \"EDA\", \"flow_distribution_over_time_for_apps_per_org.png\"))\n",
    "    plt.show()\n",
    "    plt.clf()\n",
    "    plt.close()"
   ]
  }
 ],
 "metadata": {
  "kernelspec": {
   "display_name": "dipterv_python_venv",
   "language": "python",
   "name": "python3"
  },
  "language_info": {
   "codemirror_mode": {
    "name": "ipython",
    "version": 3
   },
   "file_extension": ".py",
   "mimetype": "text/x-python",
   "name": "python",
   "nbconvert_exporter": "python",
   "pygments_lexer": "ipython3",
   "version": "3.12.1"
  }
 },
 "nbformat": 4,
 "nbformat_minor": 5
}
