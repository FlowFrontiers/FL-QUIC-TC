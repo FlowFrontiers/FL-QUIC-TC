{
 "cells": [
  {
   "cell_type": "markdown",
   "metadata": {},
   "source": [
    "## Description\n",
    "\n",
    "This notebook helps to visualize the federated learning results."
   ]
  },
  {
   "cell_type": "markdown",
   "metadata": {},
   "source": [
    "## Imports"
   ]
  },
  {
   "cell_type": "code",
   "execution_count": 1,
   "metadata": {},
   "outputs": [
    {
     "name": "stderr",
     "output_type": "stream",
     "text": [
      "/Users/ejozric/Dipterv/dipterv_python_venv/lib/python3.12/site-packages/tqdm/auto.py:21: TqdmWarning: IProgress not found. Please update jupyter and ipywidgets. See https://ipywidgets.readthedocs.io/en/stable/user_install.html\n",
      "  from .autonotebook import tqdm as notebook_tqdm\n",
      "2025-06-05 15:56:21,681\tINFO util.py:154 -- Missing packages: ['ipywidgets']. Run `pip install -U ipywidgets`, then restart the notebook server for rich notebook output.\n"
     ]
    }
   ],
   "source": [
    "from configuration import Configuration\n",
    "\n",
    "from federated_metrics import (\n",
    "    MetricsTracker,\n",
    "    figs_overall_scenario\n",
    ")\n",
    "\n",
    "# Configuration\n",
    "c = Configuration()"
   ]
  },
  {
   "cell_type": "markdown",
   "metadata": {},
   "source": [
    "## Visualize overall performances"
   ]
  },
  {
   "cell_type": "code",
   "execution_count": 2,
   "metadata": {},
   "outputs": [],
   "source": [
    "scenarios = [\n",
    "    \"thesis-simulation\", \n",
    "    \"thesis-simulation-buffer\"\n",
    "    ]\n",
    "for scenario in scenarios:\n",
    "    figs_overall_scenario(scenario)"
   ]
  },
  {
   "cell_type": "markdown",
   "metadata": {},
   "source": [
    "## Visualize group F1 performances"
   ]
  },
  {
   "cell_type": "code",
   "execution_count": 3,
   "metadata": {},
   "outputs": [],
   "source": [
    "scenarios = [\n",
    "    (\"thesis-simulation\", \"realworld-A\"), \n",
    "    (\"thesis-simulation-buffer\", \"realworld-B\")\n",
    "]\n",
    "for scenario, dataset in scenarios:\n",
    "    for aggregation_algo in [\"FedAvg\", \"FedProx\", \"FedYogi\", \"FedAdagrad\", \"FedAdam\"]:\n",
    "        metrics = MetricsTracker(scenario, aggregation_algo)\n",
    "        metrics.load()\n",
    "        metrics.figs_client_group(dataset)"
   ]
  }
 ],
 "metadata": {
  "kernelspec": {
   "display_name": "dipterv_python_venv",
   "language": "python",
   "name": "python3"
  },
  "language_info": {
   "codemirror_mode": {
    "name": "ipython",
    "version": 3
   },
   "file_extension": ".py",
   "mimetype": "text/x-python",
   "name": "python",
   "nbconvert_exporter": "python",
   "pygments_lexer": "ipython3",
   "version": "3.12.1"
  }
 },
 "nbformat": 4,
 "nbformat_minor": 2
}
