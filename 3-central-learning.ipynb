{
 "cells": [
  {
   "cell_type": "markdown",
   "metadata": {},
   "source": [
    "# Imports"
   ]
  },
  {
   "cell_type": "code",
   "execution_count": null,
   "metadata": {},
   "outputs": [
    {
     "name": "stderr",
     "output_type": "stream",
     "text": [
      "/Users/ejozric/Dipterv/dipterv_python_venv/lib/python3.12/site-packages/tqdm/auto.py:21: TqdmWarning: IProgress not found. Please update jupyter and ipywidgets. See https://ipywidgets.readthedocs.io/en/stable/user_install.html\n",
      "  from .autonotebook import tqdm as notebook_tqdm\n"
     ]
    },
    {
     "name": "stdout",
     "output_type": "stream",
     "text": [
      "Using mps device\n"
     ]
    }
   ],
   "source": [
    "import os, sys, logging, json, torch, time , shap\n",
    "\n",
    "import pandas as pd\n",
    "import matplotlib.pyplot as plt\n",
    "import numpy as np\n",
    "import seaborn as sns\n",
    "\n",
    "sys.path.append(os.path.abspath(os.path.join(os.getcwd(), \"../\")))\n",
    "from configuration import Configuration\n",
    "from os.path import join as path\n",
    "from torch import nn\n",
    "from torch.utils.data import DataLoader, Dataset\n",
    "from sklearn.metrics import f1_score, accuracy_score, precision_score, recall_score, confusion_matrix, classification_report\n",
    "from tqdm import tqdm\n",
    "from warnings import simplefilter\n",
    "simplefilter(action=\"ignore\", category=pd.errors.PerformanceWarning)\n",
    "simplefilter(action=\"ignore\", category=RuntimeWarning)\n",
    "\n",
    "from model import Model\n",
    "\n",
    "# Configuration\n",
    "c = Configuration()\n",
    "\n",
    "# logging\n",
    "logging.basicConfig(\n",
    "    level=logging.INFO,\n",
    "    format=\"%(asctime)s [%(levelname)s] %(message)s\",\n",
    ")\n",
    "logger = logging.getLogger(__name__)\n",
    "\n",
    "# Choose nn device\n",
    "device = (\n",
    "    \"cuda\"\n",
    "    if torch.cuda.is_available()\n",
    "    else \"mps\"\n",
    "    if torch.backends.mps.is_available()\n",
    "    else \"cpu\"\n",
    ")\n",
    "print(f\"Using {device} device\")"
   ]
  },
  {
   "cell_type": "markdown",
   "metadata": {},
   "source": [
    "# Controll Panel"
   ]
  },
  {
   "cell_type": "code",
   "execution_count": 2,
   "metadata": {},
   "outputs": [],
   "source": [
    "SCENARIO_NAME = \"FC-flowstats\"\n",
    "\n",
    "FEATURES = c.flowstats"
   ]
  },
  {
   "cell_type": "markdown",
   "metadata": {},
   "source": [
    "Variables and such"
   ]
  },
  {
   "cell_type": "code",
   "execution_count": 3,
   "metadata": {},
   "outputs": [
    {
     "name": "stdout",
     "output_type": "stream",
     "text": [
      "Total Learnable Parameters: 48487\n"
     ]
    }
   ],
   "source": [
    "scenario_name = SCENARIO_NAME\n",
    "os.makedirs(path(c.path_results, \"scenarios\", \"CL\", scenario_name), exist_ok=True)\n",
    "\n",
    "random_state = 123\n",
    "epochs = 10\n",
    "batch_size = 1024\n",
    "lr = 0.01\n",
    "early_stopping_patience = 5\n",
    "\n",
    "features = FEATURES\n",
    "columns = features + c.appl\n",
    "\n",
    "in_features = len(features)\n",
    "out_features = len(c.classes)\n",
    "\n",
    "model = Model(in_features, out_features).to(device)\n",
    "learnable_params = sum(p.numel() for p in model.parameters() if p.requires_grad)\n",
    "print(f\"Total Learnable Parameters: {learnable_params}\")\n",
    "\n",
    "\n",
    "loss_fn = nn.CrossEntropyLoss()\n",
    "optimizer = torch.optim.Adam(model.parameters(), lr=lr)\n",
    "\n",
    "train_loss = []\n",
    "train_acc = []\n",
    "train_time = []\n",
    "\n",
    "val_loss = []\n",
    "val_acc = []\n",
    "best_val_loss_epoch = -1\n",
    "best_val_loss = float(\"inf\")\n",
    "\n",
    "val_metric_acc = []\n",
    "val_metric_recall = []\n",
    "val_metric_precision = []\n",
    "val_metric_f1 = []\n",
    "val_metric_cm = []\n",
    "\n",
    "test_metric_f1 = None\n",
    "test_metric_acc = None\n",
    "test_metric_precision = None\n",
    "test_metric_recall = None\n",
    "test_metric_cm = None\n",
    "test_metric_cr = None"
   ]
  },
  {
   "cell_type": "markdown",
   "metadata": {},
   "source": [
    "save model"
   ]
  },
  {
   "cell_type": "code",
   "execution_count": 4,
   "metadata": {},
   "outputs": [],
   "source": [
    "def save_model():\n",
    "    torch.save(model.state_dict(), path(c.path_results, \"scenarios\", \"CL\", scenario_name, \"best_model.torch\"))"
   ]
  },
  {
   "cell_type": "markdown",
   "metadata": {},
   "source": [
    "load model"
   ]
  },
  {
   "cell_type": "code",
   "execution_count": 5,
   "metadata": {},
   "outputs": [],
   "source": [
    "def load_model():\n",
    "    model = Model(in_features, out_features).to(device)\n",
    "    model.load_state_dict(torch.load(path(c.path_results, \"scenarios\", \"CL\", scenario_name, \"best_model.torch\")))\n",
    "    return model"
   ]
  },
  {
   "cell_type": "markdown",
   "metadata": {},
   "source": [
    "dead neurons"
   ]
  },
  {
   "cell_type": "code",
   "execution_count": 6,
   "metadata": {},
   "outputs": [],
   "source": [
    "def count_dead_neurons_percent(loader):\n",
    "    dead_neurons = {}\n",
    "\n",
    "    def hook_fn(module, input, output):\n",
    "        if isinstance(output, torch.Tensor):\n",
    "            dead_neurons[module] = (output == 0).all(dim=0).sum().item()\n",
    "\n",
    "    hooks = []\n",
    "    for name, module in model.named_modules():\n",
    "        if isinstance(module, torch.nn.ReLU):  # Track ReLU activations\n",
    "            hooks.append(module.register_forward_hook(hook_fn))\n",
    "\n",
    "    # Pass data through model to record activations\n",
    "    model.eval()\n",
    "    with torch.no_grad():\n",
    "        for x, y in loader:\n",
    "            x = x.to(device)\n",
    "            model(x)\n",
    "            break  # Only need one batch to estimate dead neurons\n",
    "\n",
    "    # Remove hooks\n",
    "    for hook in hooks:\n",
    "        hook.remove()\n",
    "\n",
    "    return sum(dead_neurons.values())/learnable_params*100  # Total and per-layer dead neurons"
   ]
  },
  {
   "cell_type": "markdown",
   "metadata": {},
   "source": [
    "# Load Data"
   ]
  },
  {
   "cell_type": "markdown",
   "metadata": {},
   "source": [
    "Dataset"
   ]
  },
  {
   "cell_type": "code",
   "execution_count": 7,
   "metadata": {},
   "outputs": [],
   "source": [
    "class FQDataset(Dataset):\n",
    "    def __init__(self, x, y):\n",
    "        self.x = torch.tensor(x.values, dtype=torch.float32)\n",
    "        self.y = torch.tensor(y.values, dtype=torch.long)\n",
    "\n",
    "    def __len__(self):\n",
    "        return len(self.x)\n",
    "    \n",
    "    def __getitem__(self, idx):\n",
    "        return self.x[idx], self.y[idx]"
   ]
  },
  {
   "cell_type": "code",
   "execution_count": 8,
   "metadata": {},
   "outputs": [],
   "source": [
    "pth = path(c.path_dataset, \"4-dataset\", \"CL\")\n",
    "    \n",
    "train_cnt = 0\n",
    "\n",
    "for filename in os.listdir(pth):\n",
    "    if filename.startswith(\"train-\"):\n",
    "        train_cnt += 1\n",
    "\n",
    "train_paths = [ path(c.path_dataset, \"4-dataset\", \"CL\", f\"train-{i}.parquet\") for i in range(1, train_cnt+1)]\n",
    "test_path = path(c.path_dataset, \"4-dataset\", \"CL\", \"test.parquet\")\n",
    "validation_path = path(c.path_dataset, \"4-dataset\", \"CL\", \"validation.parquet\")"
   ]
  },
  {
   "cell_type": "code",
   "execution_count": 9,
   "metadata": {},
   "outputs": [],
   "source": [
    "def load_data(path):\n",
    "    df= pd.read_parquet(path, columns=columns)\n",
    "\n",
    "    X, y = df.drop(columns=c.appl), df[c.app]\n",
    "\n",
    "    ds = FQDataset(X, y)\n",
    "\n",
    "    return DataLoader(ds, batch_size=batch_size, shuffle=True)"
   ]
  },
  {
   "cell_type": "markdown",
   "metadata": {},
   "source": [
    "# Fit model"
   ]
  },
  {
   "cell_type": "markdown",
   "metadata": {},
   "source": [
    "train"
   ]
  },
  {
   "cell_type": "code",
   "execution_count": 10,
   "metadata": {},
   "outputs": [],
   "source": [
    "def train(epoch):\n",
    "    global train_paths\n",
    "    model.train()\n",
    "            \n",
    "    train_loss_local = 0.0\n",
    "    correct_train = 0\n",
    "    total_train = 0\n",
    "\n",
    "    train_cnt = 0\n",
    "    train_len = 0\n",
    "    for train_path in train_paths:\n",
    "        train_loader = load_data(train_path)\n",
    "        train_cnt += 1\n",
    "        train_len += len(train_loader)\n",
    "\n",
    "        # Training loop\n",
    "        t_start = time.time()\n",
    "        with tqdm(train_loader, f\"Epoch {epoch+1}/{epochs} - Train {train_cnt}/{len(train_paths)} - Training\", unit=\"batch\") as train_bar:\n",
    "            for x, y in train_bar:\n",
    "                x, y = x.to(device), y.to(device)\n",
    "                optimizer.zero_grad()\n",
    "                \n",
    "                # Forward pass\n",
    "                outputs = model(x)\n",
    "                loss = loss_fn(outputs, y)\n",
    "                \n",
    "                # Backward pass\n",
    "                loss.backward()\n",
    "                optimizer.step()\n",
    "                \n",
    "                train_loss_local += loss.item()\n",
    "                \n",
    "                _, predicted = torch.max(outputs, 1)\n",
    "                correct_train += (predicted == y).sum().item()\n",
    "                total_train += y.size(0)\n",
    "                \n",
    "                # Update progress bar with loss\n",
    "                train_bar.set_postfix(train_accuracy=correct_train/total_train, train_loss=train_loss_local/train_len)\n",
    "        \n",
    "        del train_loader\n",
    "            \n",
    "    train_time.append(time.time() - t_start)\n",
    "    train_loss.append(train_loss_local/train_len)\n",
    "    train_acc.append(correct_train/total_train)"
   ]
  },
  {
   "cell_type": "markdown",
   "metadata": {},
   "source": [
    "validate"
   ]
  },
  {
   "cell_type": "code",
   "execution_count": 11,
   "metadata": {},
   "outputs": [],
   "source": [
    "def validate(epoch):\n",
    "    global best_val_loss, best_val_loss_epoch, validation_path\n",
    "    \n",
    "    model.eval()\n",
    "    \n",
    "    val_loss_local = 0.0\n",
    "    correct_val = 0\n",
    "    total_val = 0\n",
    "    \n",
    "    all_labels = []\n",
    "    all_preds = []\n",
    "    \n",
    "    val_loader = load_data(validation_path)\n",
    "    \n",
    "    \n",
    "    with torch.no_grad():\n",
    "        with tqdm(val_loader, f\"Epoch {epoch+1}/{epochs} - Validating\", unit=\"batch\") as validation_bar:\n",
    "            for x, y in validation_bar:\n",
    "                x, y = x.to(device), y.to(device)\n",
    "                \n",
    "                # Forward pass\n",
    "                outputs = model(x)\n",
    "                loss = loss_fn(outputs, y)\n",
    "                \n",
    "                \n",
    "                val_loss_local += loss.item()\n",
    "                _, predicted = torch.max(outputs, 1)\n",
    "                correct_val += (predicted == y).sum().item()\n",
    "                total_val += y.size(0)\n",
    "                \n",
    "                all_labels.extend(y.cpu().numpy())\n",
    "                all_preds.extend(predicted.cpu().numpy())\n",
    "    \n",
    "                validation_bar.set_postfix(validation_accuracy=correct_val/total_val, \n",
    "                                            validation_loss=val_loss_local/len(validation_bar))\n",
    "    \n",
    "    acc = accuracy_score(all_labels, all_preds)\n",
    "    precision = precision_score(all_labels, all_preds, average='macro', zero_division=0)\n",
    "    recall = recall_score(all_labels, all_preds, average='macro', zero_division=0)\n",
    "    f1 = f1_score(all_labels, all_preds, average='macro', zero_division=0)\n",
    "    cm = confusion_matrix(all_labels, all_preds, normalize='true')\n",
    "    \n",
    "    val_acc.append(correct_val/total_val)\n",
    "    val_loss.append(val_loss_local/len(validation_bar))\n",
    "    \n",
    "    val_metric_acc.append(acc)\n",
    "    val_metric_precision.append(precision)\n",
    "    val_metric_recall.append(recall)\n",
    "    val_metric_f1.append(f1)\n",
    "    val_metric_cm.append(cm)\n",
    "    \n",
    "    if val_loss_local < best_val_loss:\n",
    "        best_val_loss = val_loss_local\n",
    "        best_val_loss_epoch = epoch"
   ]
  },
  {
   "cell_type": "markdown",
   "metadata": {},
   "source": [
    "test"
   ]
  },
  {
   "cell_type": "code",
   "execution_count": 12,
   "metadata": {},
   "outputs": [],
   "source": [
    "def test():\n",
    "    global test_metric_f1, test_metric_acc, test_metric_precision, test_metric_recall, test_metric_cm, test_metric_cr, test_path\n",
    "    model.eval()\n",
    "        \n",
    "    all_labels = []\n",
    "    all_preds = []\n",
    "\n",
    "    test_loader = load_data(test_path)\n",
    "\n",
    "    with torch.no_grad():\n",
    "        with tqdm(test_loader, f\"Testing\", unit=\"batch\") as test_bar:\n",
    "            for x, y in test_bar:\n",
    "                x, y = x.to(device), y.to(device)\n",
    "                \n",
    "                # Forward pass\n",
    "                outputs = model(x)\n",
    "                _, predicted = torch.max(outputs, 1)\n",
    "                \n",
    "                all_labels.extend(y.cpu().numpy())\n",
    "                all_preds.extend(predicted.cpu().numpy())\n",
    "                \n",
    "                test_bar.set_postfix()\n",
    "        \n",
    "        \n",
    "    # Calculate metrics\n",
    "\n",
    "    int_to_cls = c.load_mapping(\"int_to_cls\")\n",
    "\n",
    "    all_labels = [int_to_cls[x] for x in all_labels]\n",
    "    all_preds = [int_to_cls[x] for x in all_preds]\n",
    "\n",
    "    test_metric_f1 = f1_score(all_labels, all_preds, average='weighted', zero_division=0)\n",
    "    test_metric_acc = accuracy_score(all_labels, all_preds)\n",
    "    test_metric_precision = precision_score(all_labels, all_preds, average='weighted', zero_division=0)\n",
    "    test_metric_recall = recall_score(all_labels, all_preds, average='weighted', zero_division=0)\n",
    "    test_metric_cm = confusion_matrix(all_labels, all_preds, labels=c.classes, normalize='true')\n",
    "    test_metric_cr = classification_report(all_labels, all_preds, labels=c.classes)"
   ]
  },
  {
   "cell_type": "markdown",
   "metadata": {},
   "source": [
    "## Fit and Test"
   ]
  },
  {
   "cell_type": "code",
   "execution_count": 13,
   "metadata": {},
   "outputs": [
    {
     "name": "stderr",
     "output_type": "stream",
     "text": [
      "Epoch 1/10 - Train 1/6 - Training: 100%|██████████| 1000/1000 [00:10<00:00, 91.48batch/s, train_accuracy=0.665, train_loss=0.883]\n",
      "Epoch 1/10 - Train 2/6 - Training: 100%|██████████| 1000/1000 [00:10<00:00, 97.94batch/s, train_accuracy=0.7, train_loss=0.776]  \n",
      "Epoch 1/10 - Train 3/6 - Training: 100%|██████████| 1000/1000 [00:10<00:00, 96.04batch/s, train_accuracy=0.718, train_loss=0.723]\n",
      "Epoch 1/10 - Train 4/6 - Training: 100%|██████████| 1000/1000 [00:10<00:00, 96.22batch/s, train_accuracy=0.731, train_loss=0.688]\n",
      "Epoch 1/10 - Train 5/6 - Training: 100%|██████████| 1000/1000 [00:10<00:00, 99.63batch/s, train_accuracy=0.74, train_loss=0.662] \n",
      "Epoch 1/10 - Train 6/6 - Training: 100%|██████████| 496/496 [00:05<00:00, 95.47batch/s, train_accuracy=0.745, train_loss=0.651] \n",
      "Epoch 1/10 - Validating: 100%|██████████| 786/786 [00:04<00:00, 164.04batch/s, validation_accuracy=0.821, validation_loss=0.445] \n",
      "Epoch 2/10 - Train 1/6 - Training: 100%|██████████| 1000/1000 [00:10<00:00, 98.90batch/s, train_accuracy=0.787, train_loss=0.538] \n",
      "Epoch 2/10 - Train 2/6 - Training: 100%|██████████| 1000/1000 [00:10<00:00, 95.80batch/s, train_accuracy=0.791, train_loss=0.529]\n",
      "Epoch 2/10 - Train 3/6 - Training: 100%|██████████| 1000/1000 [00:09<00:00, 100.18batch/s, train_accuracy=0.794, train_loss=0.522]\n",
      "Epoch 2/10 - Train 4/6 - Training: 100%|██████████| 1000/1000 [00:10<00:00, 96.69batch/s, train_accuracy=0.797, train_loss=0.516]\n",
      "Epoch 2/10 - Train 5/6 - Training: 100%|██████████| 1000/1000 [00:10<00:00, 99.87batch/s, train_accuracy=0.799, train_loss=0.51] \n",
      "Epoch 2/10 - Train 6/6 - Training: 100%|██████████| 496/496 [00:04<00:00, 102.21batch/s, train_accuracy=0.8, train_loss=0.508]  \n",
      "Epoch 2/10 - Validating: 100%|██████████| 786/786 [00:04<00:00, 163.09batch/s, validation_accuracy=0.85, validation_loss=0.38]   \n",
      "Epoch 3/10 - Train 1/6 - Training: 100%|██████████| 1000/1000 [00:09<00:00, 100.81batch/s, train_accuracy=0.81, train_loss=0.483] \n",
      "Epoch 3/10 - Train 2/6 - Training: 100%|██████████| 1000/1000 [00:10<00:00, 99.28batch/s, train_accuracy=0.812, train_loss=0.479]\n",
      "Epoch 3/10 - Train 3/6 - Training: 100%|██████████| 1000/1000 [00:10<00:00, 98.78batch/s, train_accuracy=0.813, train_loss=0.476]\n",
      "Epoch 3/10 - Train 4/6 - Training: 100%|██████████| 1000/1000 [00:09<00:00, 100.25batch/s, train_accuracy=0.815, train_loss=0.472]\n",
      "Epoch 3/10 - Train 5/6 - Training: 100%|██████████| 1000/1000 [00:10<00:00, 99.70batch/s, train_accuracy=0.816, train_loss=0.469] \n",
      "Epoch 3/10 - Train 6/6 - Training: 100%|██████████| 496/496 [00:04<00:00, 99.98batch/s, train_accuracy=0.816, train_loss=0.468] \n",
      "Epoch 3/10 - Validating: 100%|██████████| 786/786 [00:04<00:00, 166.75batch/s, validation_accuracy=0.86, validation_loss=0.353]  \n",
      "Epoch 4/10 - Train 1/6 - Training: 100%|██████████| 1000/1000 [00:10<00:00, 99.42batch/s, train_accuracy=0.821, train_loss=0.457] \n",
      "Epoch 4/10 - Train 2/6 - Training: 100%|██████████| 1000/1000 [00:10<00:00, 99.99batch/s, train_accuracy=0.822, train_loss=0.454]\n",
      "Epoch 4/10 - Train 3/6 - Training: 100%|██████████| 1000/1000 [00:09<00:00, 100.43batch/s, train_accuracy=0.824, train_loss=0.45]\n",
      "Epoch 4/10 - Train 4/6 - Training: 100%|██████████| 1000/1000 [00:10<00:00, 98.16batch/s, train_accuracy=0.825, train_loss=0.447]\n",
      "Epoch 4/10 - Train 5/6 - Training: 100%|██████████| 1000/1000 [00:10<00:00, 97.66batch/s, train_accuracy=0.826, train_loss=0.445]\n",
      "Epoch 4/10 - Train 6/6 - Training: 100%|██████████| 496/496 [00:04<00:00, 99.30batch/s, train_accuracy=0.826, train_loss=0.444] \n",
      "Epoch 4/10 - Validating: 100%|██████████| 786/786 [00:04<00:00, 168.02batch/s, validation_accuracy=0.866, validation_loss=0.34]  \n",
      "Epoch 5/10 - Train 1/6 - Training: 100%|██████████| 1000/1000 [00:10<00:00, 99.28batch/s, train_accuracy=0.828, train_loss=0.439] \n",
      "Epoch 5/10 - Train 2/6 - Training: 100%|██████████| 1000/1000 [00:10<00:00, 99.26batch/s, train_accuracy=0.829, train_loss=0.437]\n",
      "Epoch 5/10 - Train 3/6 - Training: 100%|██████████| 1000/1000 [00:10<00:00, 99.08batch/s, train_accuracy=0.831, train_loss=0.434]\n",
      "Epoch 5/10 - Train 4/6 - Training: 100%|██████████| 1000/1000 [00:10<00:00, 97.87batch/s, train_accuracy=0.831, train_loss=0.431]\n",
      "Epoch 5/10 - Train 5/6 - Training: 100%|██████████| 1000/1000 [00:10<00:00, 99.48batch/s, train_accuracy=0.832, train_loss=0.43] \n",
      "Epoch 5/10 - Train 6/6 - Training: 100%|██████████| 496/496 [00:05<00:00, 98.96batch/s, train_accuracy=0.832, train_loss=0.429] \n",
      "Epoch 5/10 - Validating: 100%|██████████| 786/786 [00:04<00:00, 165.11batch/s, validation_accuracy=0.876, validation_loss=0.321] \n",
      "Epoch 6/10 - Train 1/6 - Training: 100%|██████████| 1000/1000 [00:10<00:00, 99.38batch/s, train_accuracy=0.834, train_loss=0.425] \n",
      "Epoch 6/10 - Train 2/6 - Training: 100%|██████████| 1000/1000 [00:10<00:00, 99.82batch/s, train_accuracy=0.836, train_loss=0.422]\n",
      "Epoch 6/10 - Train 3/6 - Training: 100%|██████████| 1000/1000 [00:10<00:00, 99.66batch/s, train_accuracy=0.836, train_loss=0.42] \n",
      "Epoch 6/10 - Train 4/6 - Training: 100%|██████████| 1000/1000 [00:10<00:00, 99.48batch/s, train_accuracy=0.837, train_loss=0.418]\n",
      "Epoch 6/10 - Train 5/6 - Training: 100%|██████████| 1000/1000 [00:09<00:00, 100.05batch/s, train_accuracy=0.837, train_loss=0.417]\n",
      "Epoch 6/10 - Train 6/6 - Training: 100%|██████████| 496/496 [00:05<00:00, 98.79batch/s, train_accuracy=0.838, train_loss=0.416] \n",
      "Epoch 6/10 - Validating: 100%|██████████| 786/786 [00:04<00:00, 163.88batch/s, validation_accuracy=0.876, validation_loss=0.314] \n",
      "Epoch 7/10 - Train 1/6 - Training: 100%|██████████| 1000/1000 [00:10<00:00, 99.40batch/s, train_accuracy=0.839, train_loss=0.414] \n",
      "Epoch 7/10 - Train 2/6 - Training: 100%|██████████| 1000/1000 [00:10<00:00, 99.50batch/s, train_accuracy=0.84, train_loss=0.412] \n",
      "Epoch 7/10 - Train 3/6 - Training: 100%|██████████| 1000/1000 [00:10<00:00, 98.90batch/s, train_accuracy=0.841, train_loss=0.41] \n",
      "Epoch 7/10 - Train 4/6 - Training: 100%|██████████| 1000/1000 [00:10<00:00, 98.21batch/s, train_accuracy=0.841, train_loss=0.408]\n",
      "Epoch 7/10 - Train 5/6 - Training: 100%|██████████| 1000/1000 [00:10<00:00, 99.80batch/s, train_accuracy=0.842, train_loss=0.407]\n",
      "Epoch 7/10 - Train 6/6 - Training: 100%|██████████| 496/496 [00:05<00:00, 99.04batch/s, train_accuracy=0.842, train_loss=0.406] \n",
      "Epoch 7/10 - Validating: 100%|██████████| 786/786 [00:04<00:00, 165.44batch/s, validation_accuracy=0.882, validation_loss=0.307] \n",
      "Epoch 8/10 - Train 1/6 - Training: 100%|██████████| 1000/1000 [00:10<00:00, 99.24batch/s, train_accuracy=0.842, train_loss=0.407] \n",
      "Epoch 8/10 - Train 2/6 - Training: 100%|██████████| 1000/1000 [00:10<00:00, 99.56batch/s, train_accuracy=0.843, train_loss=0.405]\n",
      "Epoch 8/10 - Train 3/6 - Training: 100%|██████████| 1000/1000 [00:10<00:00, 95.44batch/s, train_accuracy=0.844, train_loss=0.402]\n",
      "Epoch 8/10 - Train 4/6 - Training: 100%|██████████| 1000/1000 [00:09<00:00, 100.75batch/s, train_accuracy=0.844, train_loss=0.401]\n",
      "Epoch 8/10 - Train 5/6 - Training: 100%|██████████| 1000/1000 [00:10<00:00, 99.66batch/s, train_accuracy=0.845, train_loss=0.399]\n",
      "Epoch 8/10 - Train 6/6 - Training: 100%|██████████| 496/496 [00:04<00:00, 100.18batch/s, train_accuracy=0.845, train_loss=0.399]\n",
      "Epoch 8/10 - Validating: 100%|██████████| 786/786 [00:04<00:00, 161.60batch/s, validation_accuracy=0.886, validation_loss=0.294] \n",
      "Epoch 9/10 - Train 1/6 - Training: 100%|██████████| 1000/1000 [00:10<00:00, 95.82batch/s, train_accuracy=0.846, train_loss=0.399] \n",
      "Epoch 9/10 - Train 2/6 - Training: 100%|██████████| 1000/1000 [00:10<00:00, 99.04batch/s, train_accuracy=0.846, train_loss=0.397]\n",
      "Epoch 9/10 - Train 3/6 - Training: 100%|██████████| 1000/1000 [00:10<00:00, 98.54batch/s, train_accuracy=0.847, train_loss=0.396]\n",
      "Epoch 9/10 - Train 4/6 - Training: 100%|██████████| 1000/1000 [00:10<00:00, 99.95batch/s, train_accuracy=0.847, train_loss=0.394]\n",
      "Epoch 9/10 - Train 5/6 - Training: 100%|██████████| 1000/1000 [00:10<00:00, 97.66batch/s, train_accuracy=0.848, train_loss=0.393]\n",
      "Epoch 9/10 - Train 6/6 - Training: 100%|██████████| 496/496 [00:05<00:00, 96.23batch/s, train_accuracy=0.848, train_loss=0.392] \n",
      "Epoch 9/10 - Validating: 100%|██████████| 786/786 [00:04<00:00, 163.40batch/s, validation_accuracy=0.887, validation_loss=0.292] \n",
      "Epoch 10/10 - Train 1/6 - Training: 100%|██████████| 1000/1000 [00:10<00:00, 98.80batch/s, train_accuracy=0.848, train_loss=0.393] \n",
      "Epoch 10/10 - Train 2/6 - Training: 100%|██████████| 1000/1000 [00:10<00:00, 99.32batch/s, train_accuracy=0.848, train_loss=0.392] \n",
      "Epoch 10/10 - Train 3/6 - Training: 100%|██████████| 1000/1000 [00:10<00:00, 98.52batch/s, train_accuracy=0.849, train_loss=0.389]\n",
      "Epoch 10/10 - Train 4/6 - Training: 100%|██████████| 1000/1000 [00:10<00:00, 99.14batch/s, train_accuracy=0.849, train_loss=0.388]\n",
      "Epoch 10/10 - Train 5/6 - Training: 100%|██████████| 1000/1000 [00:10<00:00, 99.29batch/s, train_accuracy=0.85, train_loss=0.387] \n",
      "Epoch 10/10 - Train 6/6 - Training: 100%|██████████| 496/496 [00:05<00:00, 98.58batch/s, train_accuracy=0.85, train_loss=0.387] \n",
      "Epoch 10/10 - Validating: 100%|██████████| 786/786 [00:04<00:00, 162.84batch/s, validation_accuracy=0.887, validation_loss=0.292] \n",
      "Testing: 100%|██████████| 1571/1571 [00:08<00:00, 177.66batch/s]\n"
     ]
    },
    {
     "name": "stdout",
     "output_type": "stream",
     "text": [
      "Dead neurons %:  0.0\n"
     ]
    }
   ],
   "source": [
    "for epoch in range(epochs):\n",
    "    train(epoch)\n",
    "    validate(epoch)\n",
    "    \n",
    "    if epoch == best_val_loss_epoch:\n",
    "        save_model()\n",
    "    elif best_val_loss_epoch - epoch >= early_stopping_patience:\n",
    "        logger.info(\"Early stopping... %s loading best model from epoch %s\", best_val_loss_epoch)\n",
    "        break\n",
    "\n",
    "best_val_loss_epoch += 1\n",
    "model = load_model()\n",
    "test()\n",
    "val_loader = load_data(validation_path)\n",
    "print(\"Dead neurons %: \", count_dead_neurons_percent(val_loader))\n",
    "dead_neurons_percent = count_dead_neurons_percent(val_loader)"
   ]
  },
  {
   "cell_type": "markdown",
   "metadata": {},
   "source": [
    "save metrics and such"
   ]
  },
  {
   "cell_type": "code",
   "execution_count": 14,
   "metadata": {},
   "outputs": [],
   "source": [
    "with open(path(c.path_results, \"scenarios\", \"CL\", scenario_name, \"metrics_fit.json\"), 'w') as f:\n",
    "    metrics = {\n",
    "        \"epochs\"            : len(train_acc),\n",
    "        \n",
    "        \"train_time_avg_seconds\"    : sum(train_time)/len(train_time),\n",
    "        \"learnable_parameters\"      : learnable_params,\n",
    "        \"best_val_loss\"             : best_val_loss,\n",
    "        \"best_val_loss_epoch\"       : best_val_loss_epoch,\n",
    "        \"dead_neurons_percent\"      : dead_neurons_percent,\n",
    "        \n",
    "        \"test_acc\"          : test_metric_acc,\n",
    "        \"test_precision\"    : test_metric_precision,\n",
    "        \"test_recall\"       : test_metric_recall,\n",
    "        \"test_f1\"           : test_metric_f1,\n",
    "        \n",
    "        \"train_acc\"         : train_acc,\n",
    "        \"train_loss\"        : train_loss,\n",
    "        \"train_time\"        : train_time,\n",
    "        \n",
    "        \"val_acc\"           : val_metric_acc,\n",
    "        \"val_precision\"     : val_metric_precision,\n",
    "        \"val_recall\"        : val_metric_recall,\n",
    "        \"val_f1\"            : val_metric_f1,\n",
    "    }\n",
    "    json.dump(metrics, f, indent=4)\n",
    "    \n",
    "with open(path(c.path_results, \"scenarios\", \"CL\", scenario_name, \"configuration_fit.json\"), 'w') as f:\n",
    "    config = {\n",
    "        \"epochs\"                    : epochs,\n",
    "        \"batch_size\"                : batch_size,\n",
    "        \"learning_rate\"             : lr,\n",
    "        \"early_stopping_patience\"   : early_stopping_patience,\n",
    "        \"learnable_parameters\"      : learnable_params,\n",
    "        \"scenario_name\"             : scenario_name,\n",
    "        \"device\"                    : device,\n",
    "        \"random_state\"              : random_state,\n",
    "    }\n",
    "    json.dump(config, f, indent=4)\n",
    "\n",
    "with open(path(c.path_results, \"scenarios\", \"CL\", scenario_name, \"classification_report_fit.txt\"), 'w') as f:\n",
    "    f.write(test_metric_cr)"
   ]
  },
  {
   "cell_type": "markdown",
   "metadata": {},
   "source": [
    "# Visualization"
   ]
  },
  {
   "cell_type": "markdown",
   "metadata": {},
   "source": [
    "training and validation accuracy and loss"
   ]
  },
  {
   "cell_type": "code",
   "execution_count": 15,
   "metadata": {},
   "outputs": [
    {
     "data": {
      "text/plain": [
       "<Figure size 1200x600 with 0 Axes>"
      ]
     },
     "metadata": {},
     "output_type": "display_data"
    }
   ],
   "source": [
    "plt.figure(figsize=(12, 6))\n",
    "\n",
    "# Set the font and color palette\n",
    "sns.set_theme(style=\"whitegrid\")\n",
    "plt.rcParams['font.family'] = 'CMU Serif'\n",
    "plt.rcParams['font.size'] = '14'\n",
    "color_palette = sns.color_palette(\"bright\")\n",
    "    \n",
    "metrics = {\n",
    "    \"Training Accuracy\"    : train_acc,\n",
    "    \"Training Loss\"        : train_loss,\n",
    "    \"Validation Accuracy\"  : val_acc,\n",
    "    \"Validation Loss\"      : val_loss\n",
    "}\n",
    "\n",
    "x_values = np.arange(1, len(train_acc)+1)\n",
    "\n",
    "# Initialize list for lines and labels\n",
    "lines = []\n",
    "labels = []\n",
    "\n",
    "linestyles = ['--', '--', ':', ':']\n",
    "\n",
    "for i, (metric, values) in enumerate(metrics.items()):\n",
    "    line, = plt.plot(x_values\n",
    "                    , values\n",
    "                    , marker='x' if \"Accuracy\" in metric else \".\" \n",
    "                    , color=color_palette[i]\n",
    "                    , linestyle=linestyles[i % len(linestyles)] # adding linestyles\n",
    "                    , alpha=0.8  # reducing alpha\n",
    "                    , zorder=len(metrics)-i  # setting zorder\n",
    "                    , linewidth=1.0\n",
    "                    )\n",
    "    lines.append(line)\n",
    "    labels.append(f'{metric}')\n",
    "\n",
    "# Add best epoch\n",
    "plt.axvline(x = best_val_loss_epoch, color='green', linestyle='-', linewidth=0.75, alpha=0.6)\n",
    "\n",
    "# Add title and labels\n",
    "plt.xlabel('Epoch')\n",
    "plt.ylabel('Metric')\n",
    "\n",
    "# Add a legend\n",
    "plt.legend(lines, labels,\n",
    "        bbox_to_anchor=(0., 1.02, 1., .102),\n",
    "        loc='lower left',\n",
    "        ncol=2,\n",
    "        mode=\"expand\",\n",
    "        borderaxespad=0.,\n",
    "        fancybox=True,\n",
    "        shadow=True)\n",
    "\n",
    "plt.grid(linestyle='--', linewidth=0.5)\n",
    "plt.xticks(x_values)\n",
    "plt.tight_layout()\n",
    "plt.savefig(path(c.path_results, \"scenarios\", \"CL\", scenario_name, \"fig_acc_loss_all.png\"), dpi=300, bbox_inches='tight')\n",
    "plt.clf()"
   ]
  },
  {
   "cell_type": "markdown",
   "metadata": {},
   "source": [
    "plot val metrics"
   ]
  },
  {
   "cell_type": "code",
   "execution_count": 16,
   "metadata": {},
   "outputs": [
    {
     "data": {
      "text/plain": [
       "<Figure size 1200x600 with 0 Axes>"
      ]
     },
     "metadata": {},
     "output_type": "display_data"
    }
   ],
   "source": [
    "plt.figure(figsize=(12, 6))\n",
    "        \n",
    "# Set the font and color palette\n",
    "sns.set_theme(style=\"whitegrid\")\n",
    "plt.rcParams['font.family'] = 'CMU Serif'\n",
    "plt.rcParams['font.size'] = '14'\n",
    "color_palette = sns.color_palette(\"bright\")\n",
    "    \n",
    "metrics = {\n",
    "    \"Accuracy\"          : val_metric_acc,\n",
    "    \"Recall\"            : val_metric_recall,\n",
    "    \"Precision\"         : val_metric_precision,\n",
    "    \"F$_1$-score\"       : val_metric_f1\n",
    "}\n",
    "\n",
    "x_values = np.arange(1, len(train_acc)+1)\n",
    "\n",
    "# Initialize list for lines and labels\n",
    "lines = []\n",
    "labels = []\n",
    "\n",
    "linestyles = ['--', '--', ':', ':']\n",
    "\n",
    "for i, (metric, values) in enumerate(metrics.items()):\n",
    "    line, = plt.plot(x_values\n",
    "                    , values\n",
    "                    , marker='x'\n",
    "                    , color=color_palette[i]\n",
    "                    , linestyle=linestyles[i % len(linestyles)] # adding linestyles\n",
    "                    , alpha=0.8  # reducing alpha\n",
    "                    , zorder=len(metrics)-i  # setting zorder\n",
    "                    , linewidth=1.0\n",
    "                    )\n",
    "    lines.append(line)\n",
    "    labels.append(f'{metric}')\n",
    "\n",
    "# Add best epoch\n",
    "plt.axvline(x= best_val_loss_epoch, color='green', linestyle='-', linewidth=0.75, alpha=0.6)\n",
    "\n",
    "# Add title and labels\n",
    "plt.xlabel('Epoch')\n",
    "plt.ylabel('Metric')\n",
    "\n",
    "# Add a legend\n",
    "plt.legend(lines, labels,\n",
    "        bbox_to_anchor=(0., 1.02, 1., .102),\n",
    "        loc='lower left',\n",
    "        ncol=2,\n",
    "        mode=\"expand\",\n",
    "        borderaxespad=0.,\n",
    "        fancybox=True,\n",
    "        shadow=True)\n",
    "\n",
    "plt.grid(linestyle='--', linewidth=0.5)\n",
    "plt.xticks(x_values)\n",
    "plt.tight_layout()\n",
    "plt.savefig(path(c.path_results, \"scenarios\", \"CL\", scenario_name, \"fig_val_metrics.png\"), dpi=300, bbox_inches='tight')\n",
    "plt.clf()"
   ]
  },
  {
   "cell_type": "markdown",
   "metadata": {},
   "source": [
    "confusion matrix"
   ]
  },
  {
   "cell_type": "code",
   "execution_count": null,
   "metadata": {},
   "outputs": [
    {
     "data": {
      "image/png": "[encoded data removed]",
      "text/plain": [
       "<Figure size 1200x800 with 2 Axes>"
      ]
     },
     "metadata": {},
     "output_type": "display_data"
    }
   ],
   "source": [
    "FSIZE = 14\n",
    "\n",
    "# Set the font family and size\n",
    "plt.rcParams['font.family'] = 'CMU Serif'\n",
    "plt.rcParams['font.size'] = 14\n",
    "\n",
    "cmap = sns.color_palette(\"Blues\", as_cmap=True)\n",
    "\n",
    "fig, ax = plt.subplots(figsize=(12, 8))\n",
    "\n",
    "heatmap = sns.heatmap(test_metric_cm\n",
    "                    , annot=True\n",
    "                    , fmt=\".4f\"\n",
    "                    , linewidths=.5\n",
    "                    , ax=ax\n",
    "                    , cmap=cmap\n",
    "                    , cbar=True\n",
    "                    , rasterized=False\n",
    "                    )\n",
    "\n",
    "cbar = heatmap.collections[0].colorbar\n",
    "cbar.ax.tick_params(labelsize=FSIZE)\n",
    "\n",
    "for spine in ax.spines.values():\n",
    "    spine.set(visible=True, lw=.8, edgecolor=\"black\")\n",
    "\n",
    "# Set up axes\n",
    "ax.set_xticklabels(c.classes, rotation=45, ha='center', fontsize=FSIZE)  # Rotate the x-axis tick labels by 45 degrees\n",
    "ax.set_yticklabels(c.classes, rotation=45, ha='right', fontsize=FSIZE)  # Rotate the y-axis tick labels by 45 degrees\n",
    "ax.set_xlabel('pred', fontsize=FSIZE)\n",
    "ax.set_ylabel('true', fontsize=FSIZE)\n",
    "\n",
    "# Move the x-axis tick labels to the top\n",
    "ax.xaxis.set_tick_params(labeltop=True, labelbottom=False)\n",
    "\n",
    "# Move the x-axis ticks to the top\n",
    "ax.tick_params(axis='x', which='both', top=True, bottom=False)\n",
    "# ax.tick_params(axis='x', which='both', top=False, bottom=False)\n",
    "# ax.yaxis.set_tick_params(length=0)\n",
    "\n",
    "# Show the plot\n",
    "plt.savefig(path(c.path_results, \"scenarios\", \"CL\", scenario_name, \"fig_confusion_matrix.png\"), dpi=300, bbox_inches='tight')"
   ]
  }
 ],
 "metadata": {
  "kernelspec": {
   "display_name": "dipterv_python_venv",
   "language": "python",
   "name": "python3"
  },
  "language_info": {
   "codemirror_mode": {
    "name": "ipython",
    "version": 3
   },
   "file_extension": ".py",
   "mimetype": "text/x-python",
   "name": "python",
   "nbconvert_exporter": "python",
   "pygments_lexer": "ipython3",
   "version": "3.12.1"
  }
 },
 "nbformat": 4,
 "nbformat_minor": 2
}
