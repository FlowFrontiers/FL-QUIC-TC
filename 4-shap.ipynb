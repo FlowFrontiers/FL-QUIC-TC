{
 "cells": [
  {
   "cell_type": "code",
   "execution_count": null,
   "id": "410f943f",
   "metadata": {},
   "outputs": [],
   "source": [
    "import os, sys, logging, torch, shap\n",
    "\n",
    "import pandas as pd\n",
    "import matplotlib.pyplot as plt\n",
    "\n",
    "sys.path.append(os.path.abspath(os.path.join(os.getcwd(), \"../\")))\n",
    "from configuration import Configuration\n",
    "from os.path import join as path\n",
    "from torch.utils.data import DataLoader, Dataset\n",
    "from warnings import simplefilter\n",
    "simplefilter(action=\"ignore\", category=pd.errors.PerformanceWarning)\n",
    "simplefilter(action=\"ignore\", category=RuntimeWarning)\n",
    "\n",
    "from model import Model\n",
    "\n",
    "# Configuration\n",
    "c = Configuration()\n",
    "\n",
    "# logging\n",
    "logging.basicConfig(\n",
    "    level=logging.INFO,\n",
    "    format=\"%(asctime)s [%(levelname)s] %(message)s\",\n",
    ")\n",
    "logger = logging.getLogger(__name__)"
   ]
  },
  {
   "cell_type": "code",
   "execution_count": null,
   "id": "4c629954",
   "metadata": {},
   "outputs": [],
   "source": [
    "def load_model(in_features, out_features, scenario_name):\n",
    "    model = Model(in_features, out_features)\n",
    "    model.load_state_dict(torch.load(path(c.path_results, \"scenarios\", \"CL\", scenario_name, \"best_model.torch\")))\n",
    "    return model\n",
    "\n",
    "\n",
    "features = c._flowstats + c._pstats + c._pflowstats + c._pstats_subdirs\n",
    "columns = features + c.appl\n",
    "\n",
    "in_features = len(features)\n",
    "out_features = len(c.classes)\n",
    "\n",
    "model = load_model(in_features, out_features, \"FC-all\")"
   ]
  },
  {
   "cell_type": "code",
   "execution_count": null,
   "id": "47a877a4",
   "metadata": {},
   "outputs": [],
   "source": [
    "class FQDataset(Dataset):\n",
    "    def __init__(self, x, y):\n",
    "        self.x = torch.tensor(x.values, dtype=torch.float32)\n",
    "        self.y = torch.tensor(y.values, dtype=torch.long)\n",
    "\n",
    "    def __len__(self):\n",
    "        return len(self.x)\n",
    "    \n",
    "    def __getitem__(self, idx):\n",
    "        return self.x[idx], self.y[idx]\n",
    "    \n",
    "pth = path(c.path_dataset, \"4-dataset\", \"CL\")\n",
    "    \n",
    "train_cnt = 0\n",
    "\n",
    "for filename in os.listdir(pth):\n",
    "    if filename.startswith(\"train-\"):\n",
    "        train_cnt += 1\n",
    "\n",
    "train_paths = [ path(c.path_dataset, \"4-dataset\", \"CL\", f\"train-{i}.parquet\") for i in range(1, train_cnt+1)]\n",
    "test_path = path(c.path_dataset, \"4-dataset\", \"CL\", \"test.parquet\")\n",
    "validation_path = path(c.path_dataset, \"4-dataset\", \"CL\", \"validation.parquet\")\n",
    "\n",
    "def load_data(path):\n",
    "    df= pd.read_parquet(path, columns=columns)\n",
    "\n",
    "    X, y = df.drop(columns=c.appl), df[c.app]\n",
    "\n",
    "    ds = FQDataset(X, y)\n",
    "\n",
    "    return DataLoader(ds, batch_size=1024, shuffle=True)"
   ]
  },
  {
   "cell_type": "code",
   "execution_count": null,
   "id": "64d24688",
   "metadata": {},
   "outputs": [],
   "source": [
    "model.eval()\n",
    "\n",
    "test_loader = load_data(test_path)\n",
    "\n",
    "sample_data, labels = next(iter(test_loader))\n",
    "    \n",
    "explainer = shap.DeepExplainer(model, sample_data[:50])\n",
    "\n",
    "# Compute SHAP values\n",
    "shap_values = explainer.shap_values(sample_data[50:60], check_additivity=False)\n"
   ]
  },
  {
   "cell_type": "code",
   "execution_count": null,
   "id": "81a87d7b",
   "metadata": {},
   "outputs": [],
   "source": [
    "df= pd.read_parquet(test_path, columns=columns)"
   ]
  },
  {
   "cell_type": "code",
   "execution_count": null,
   "id": "fb0eb86d",
   "metadata": {},
   "outputs": [],
   "source": [
    "shap.summary_plot(shap_values, sample_data[50:60], plot_type=\"bar\", show=False, feature_names=df.columns)\n",
    "\n",
    "class_names = [\"discord\", \"facebook-graph\", \"google-www\", \"instagram\", \"snapchat\", \"spotify\", \"youtube\"]  # class 0–6\n",
    "\n",
    "# Get current legend handles and labels\n",
    "handles, labels = plt.gca().get_legend_handles_labels()\n",
    "\n",
    "# Replace with your custom labels\n",
    "plt.legend(handles, class_names, title=\"Classes\")\n",
    "\n",
    "# Show updated plot\n",
    "plt.show()"
   ]
  }
 ],
 "metadata": {
  "kernelspec": {
   "display_name": "dipterv_python_venv",
   "language": "python",
   "name": "python3"
  },
  "language_info": {
   "codemirror_mode": {
    "name": "ipython",
    "version": 3
   },
   "file_extension": ".py",
   "mimetype": "text/x-python",
   "name": "python",
   "nbconvert_exporter": "python",
   "pygments_lexer": "ipython3",
   "version": "3.12.1"
  }
 },
 "nbformat": 4,
 "nbformat_minor": 5
}
